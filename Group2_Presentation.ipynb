{
  "nbformat": 4,
  "nbformat_minor": 0,
  "metadata": {
    "colab": {
      "name": "Group2_Presentation.ipynb",
      "provenance": [],
      "collapsed_sections": [],
      "include_colab_link": true
    },
    "kernelspec": {
      "name": "python3",
      "display_name": "Python 3"
    },
    "language_info": {
      "name": "python"
    }
  },
  "cells": [
    {
      "cell_type": "markdown",
      "metadata": {
        "id": "view-in-github",
        "colab_type": "text"
      },
      "source": [
        "<a href=\"https://colab.research.google.com/github/wadegrantjacobs/mypackage/blob/master/Group2_Presentation.ipynb\" target=\"_parent\"><img src=\"https://colab.research.google.com/assets/colab-badge.svg\" alt=\"Open In Colab\"/></a>"
      ]
    },
    {
      "cell_type": "markdown",
      "source": [
        "# SQL Aggregating, Sorting & Basic Calculations  : Formula 1 Race\n",
        "@ Group 2 EDSA \n",
        "\n",
        "#Table of Content:\n",
        "\n",
        "\n",
        "1. Introduction \n",
        "2. Basic calculations \n",
        "3. Aggregation \n",
        "4. Grouping and sorting \n",
        "5. Conclusion \n",
        "6. References \n"
      ],
      "metadata": {
        "id": "krLXRtzPg9wR"
      }
    },
    {
      "cell_type": "markdown",
      "source": [
        "# 1. Introduction \n",
        "\n",
        "SQL (Structured Query Language) is a powerful 4th generation standardized programming language that is used to manage relational databases and perform various operations on the data for extracting useful insight. The language has various useful built-in functions for data analysis. In this presentation we will focus on three important topics in SQL (i.e Aggregating, Sorting & Basic Calculations) which utilises the built in functions for data analysis. The data utilized is from a Formula 1 Race database from the years 1950 to 2017 by ChrisG and it was obtained from [Kaggle.](https://www.kaggle.com/datasets/davidcochran/formula-1-race-data-sqlite?resource=download)\n"
      ],
      "metadata": {
        "id": "N9l04Uhzik25"
      }
    },
    {
      "cell_type": "markdown",
      "source": [
        "## 1.1 Importing database and preparing sql environment.\n",
        "\n",
        "To gain access to our Formula1.sqlite database and conduct the analysis we utilized the code below."
      ],
      "metadata": {
        "id": "FNlOZAFmptL8"
      }
    },
    {
      "cell_type": "code",
      "source": [
        "%load_ext sql\n",
        "%sql sqlite:///Formula1.sqlite"
      ],
      "metadata": {
        "colab": {
          "base_uri": "https://localhost:8080/",
          "height": 70
        },
        "id": "UF2gI5gEqH1a",
        "outputId": "7c803645-6b13-4792-807a-ffe7a58da01d"
      },
      "execution_count": 5,
      "outputs": [
        {
          "output_type": "stream",
          "name": "stdout",
          "text": [
            "The sql extension is already loaded. To reload it, use:\n",
            "  %reload_ext sql\n"
          ]
        },
        {
          "output_type": "execute_result",
          "data": {
            "text/plain": [
              "'Connected: @Formula1.sqlite'"
            ],
            "application/vnd.google.colaboratory.intrinsic+json": {
              "type": "string"
            }
          },
          "metadata": {},
          "execution_count": 5
        }
      ]
    },
    {
      "cell_type": "markdown",
      "source": [
        "The various table names contatined on our Formula1.sqlite database can be obtained as follows:"
      ],
      "metadata": {
        "id": "guRChrsDrOTK"
      }
    },
    {
      "cell_type": "code",
      "source": [
        "%%sql\n",
        "SELECT name FROM sqlite_master WHERE type IN ('table','view') AND name NOT LIKE 'sqlite_%' ORDER BY 1"
      ],
      "metadata": {
        "colab": {
          "base_uri": "https://localhost:8080/",
          "height": 75
        },
        "id": "yQvNga6zssCH",
        "outputId": "6d00b43b-0414-4d7c-c2e7-14476bf11284"
      },
      "execution_count": 7,
      "outputs": [
        {
          "output_type": "stream",
          "name": "stdout",
          "text": [
            " * sqlite:///Formula1.sqlite\n",
            "Done.\n"
          ]
        },
        {
          "output_type": "execute_result",
          "data": {
            "text/plain": [
              "[]"
            ],
            "text/html": [
              "<table>\n",
              "    <thead>\n",
              "        <tr>\n",
              "            <th>name</th>\n",
              "        </tr>\n",
              "    </thead>\n",
              "    <tbody>\n",
              "    </tbody>\n",
              "</table>"
            ]
          },
          "metadata": {},
          "execution_count": 7
        }
      ]
    },
    {
      "cell_type": "markdown",
      "source": [
        "In exploring the use of the SQL built-in functions we focused on a few tables mentioned above in order to answer various questions of interest. \n",
        "\n",
        "\n"
      ],
      "metadata": {
        "id": "CNTmbDvotJo2"
      }
    },
    {
      "cell_type": "markdown",
      "source": [
        "\n",
        "\n",
        "---\n",
        "\n",
        "\n",
        "Second Section Here\n",
        "\n",
        "\n",
        "---\n",
        "\n"
      ],
      "metadata": {
        "id": "8A655ouJuZ50"
      }
    },
    {
      "cell_type": "markdown",
      "source": [
        "Out of curiousity to see what the tables have......not part of the presentation"
      ],
      "metadata": {
        "id": "Wmb0BKqjujBR"
      }
    },
    {
      "cell_type": "code",
      "source": [
        "%%sql\n",
        "SELECT *\n",
        "FROM constructors\n",
        "LIMIT 10;"
      ],
      "metadata": {
        "colab": {
          "base_uri": "https://localhost:8080/"
        },
        "id": "TB-QmXq_xEtk",
        "outputId": "a001fadb-1a2b-497c-da0c-e25eb2349956"
      },
      "execution_count": 8,
      "outputs": [
        {
          "output_type": "stream",
          "name": "stdout",
          "text": [
            " * sqlite:///Formula1.sqlite\n",
            "(sqlite3.OperationalError) no such table: constructors\n",
            "[SQL: SELECT *\n",
            "FROM constructors\n",
            "LIMIT 10;]\n",
            "(Background on this error at: https://sqlalche.me/e/14/e3q8)\n"
          ]
        }
      ]
    },
    {
      "cell_type": "code",
      "source": [
        "%%sql\n",
        "SELECT *\n",
        "FROM drivers \n",
        "LIMIT 10;"
      ],
      "metadata": {
        "colab": {
          "base_uri": "https://localhost:8080/",
          "height": 289
        },
        "id": "mCWhj3zGuE91",
        "outputId": "1816f196-d371-4a14-bf99-22ccc620f49d"
      },
      "execution_count": null,
      "outputs": [
        {
          "output_type": "stream",
          "name": "stdout",
          "text": [
            " * sqlite:///Formula1.sqlite\n",
            "Done.\n"
          ]
        },
        {
          "output_type": "execute_result",
          "data": {
            "text/plain": [
              "[(1, 'hamilton', '44', 'HAM', 'Lewis', 'Hamilton', '07/01/1985', 'British', 'http://en.wikipedia.org/wiki/Lewis_Hamilton'),\n",
              " (2, 'heidfeld', '', 'HEI', 'Nick', 'Heidfeld', '10/05/1977', 'German', 'http://en.wikipedia.org/wiki/Nick_Heidfeld'),\n",
              " (3, 'rosberg', '6', 'ROS', 'Nico', 'Rosberg', '27/06/1985', 'German', 'http://en.wikipedia.org/wiki/Nico_Rosberg'),\n",
              " (4, 'alonso', '14', 'ALO', 'Fernando', 'Alonso', '29/07/1981', 'Spanish', 'http://en.wikipedia.org/wiki/Fernando_Alonso'),\n",
              " (5, 'kovalainen', '', 'KOV', 'Heikki', 'Kovalainen', '19/10/1981', 'Finnish', 'http://en.wikipedia.org/wiki/Heikki_Kovalainen'),\n",
              " (6, 'nakajima', '', 'NAK', 'Kazuki', 'Nakajima', '11/01/1985', 'Japanese', 'http://en.wikipedia.org/wiki/Kazuki_Nakajima'),\n",
              " (7, 'bourdais', '', 'BOU', 'S̩bastien', 'Bourdais', '28/02/1979', 'French', 'http://en.wikipedia.org/wiki/S%C3%A9bastien_Bourdais'),\n",
              " (8, 'raikkonen', '7', 'RAI', 'Kimi', 'R�_ikk̦nen', '17/10/1979', 'Finnish', 'http://en.wikipedia.org/wiki/Kimi_R%C3%A4ikk%C3%B6nen'),\n",
              " (9, 'kubica', '', 'KUB', 'Robert', 'Kubica', '07/12/1984', 'Polish', 'http://en.wikipedia.org/wiki/Robert_Kubica'),\n",
              " (10, 'glock', '', 'GLO', 'Timo', 'Glock', '18/03/1982', 'German', 'http://en.wikipedia.org/wiki/Timo_Glock')]"
            ],
            "text/html": [
              "<table>\n",
              "    <thead>\n",
              "        <tr>\n",
              "            <th>driverId</th>\n",
              "            <th>driverRef</th>\n",
              "            <th>number</th>\n",
              "            <th>code</th>\n",
              "            <th>forename</th>\n",
              "            <th>surname</th>\n",
              "            <th>dob</th>\n",
              "            <th>nationality</th>\n",
              "            <th>url</th>\n",
              "        </tr>\n",
              "    </thead>\n",
              "    <tbody>\n",
              "        <tr>\n",
              "            <td>1</td>\n",
              "            <td>hamilton</td>\n",
              "            <td>44</td>\n",
              "            <td>HAM</td>\n",
              "            <td>Lewis</td>\n",
              "            <td>Hamilton</td>\n",
              "            <td>07/01/1985</td>\n",
              "            <td>British</td>\n",
              "            <td>http://en.wikipedia.org/wiki/Lewis_Hamilton</td>\n",
              "        </tr>\n",
              "        <tr>\n",
              "            <td>2</td>\n",
              "            <td>heidfeld</td>\n",
              "            <td></td>\n",
              "            <td>HEI</td>\n",
              "            <td>Nick</td>\n",
              "            <td>Heidfeld</td>\n",
              "            <td>10/05/1977</td>\n",
              "            <td>German</td>\n",
              "            <td>http://en.wikipedia.org/wiki/Nick_Heidfeld</td>\n",
              "        </tr>\n",
              "        <tr>\n",
              "            <td>3</td>\n",
              "            <td>rosberg</td>\n",
              "            <td>6</td>\n",
              "            <td>ROS</td>\n",
              "            <td>Nico</td>\n",
              "            <td>Rosberg</td>\n",
              "            <td>27/06/1985</td>\n",
              "            <td>German</td>\n",
              "            <td>http://en.wikipedia.org/wiki/Nico_Rosberg</td>\n",
              "        </tr>\n",
              "        <tr>\n",
              "            <td>4</td>\n",
              "            <td>alonso</td>\n",
              "            <td>14</td>\n",
              "            <td>ALO</td>\n",
              "            <td>Fernando</td>\n",
              "            <td>Alonso</td>\n",
              "            <td>29/07/1981</td>\n",
              "            <td>Spanish</td>\n",
              "            <td>http://en.wikipedia.org/wiki/Fernando_Alonso</td>\n",
              "        </tr>\n",
              "        <tr>\n",
              "            <td>5</td>\n",
              "            <td>kovalainen</td>\n",
              "            <td></td>\n",
              "            <td>KOV</td>\n",
              "            <td>Heikki</td>\n",
              "            <td>Kovalainen</td>\n",
              "            <td>19/10/1981</td>\n",
              "            <td>Finnish</td>\n",
              "            <td>http://en.wikipedia.org/wiki/Heikki_Kovalainen</td>\n",
              "        </tr>\n",
              "        <tr>\n",
              "            <td>6</td>\n",
              "            <td>nakajima</td>\n",
              "            <td></td>\n",
              "            <td>NAK</td>\n",
              "            <td>Kazuki</td>\n",
              "            <td>Nakajima</td>\n",
              "            <td>11/01/1985</td>\n",
              "            <td>Japanese</td>\n",
              "            <td>http://en.wikipedia.org/wiki/Kazuki_Nakajima</td>\n",
              "        </tr>\n",
              "        <tr>\n",
              "            <td>7</td>\n",
              "            <td>bourdais</td>\n",
              "            <td></td>\n",
              "            <td>BOU</td>\n",
              "            <td>S̩bastien</td>\n",
              "            <td>Bourdais</td>\n",
              "            <td>28/02/1979</td>\n",
              "            <td>French</td>\n",
              "            <td>http://en.wikipedia.org/wiki/S%C3%A9bastien_Bourdais</td>\n",
              "        </tr>\n",
              "        <tr>\n",
              "            <td>8</td>\n",
              "            <td>raikkonen</td>\n",
              "            <td>7</td>\n",
              "            <td>RAI</td>\n",
              "            <td>Kimi</td>\n",
              "            <td>R�_ikk̦nen</td>\n",
              "            <td>17/10/1979</td>\n",
              "            <td>Finnish</td>\n",
              "            <td>http://en.wikipedia.org/wiki/Kimi_R%C3%A4ikk%C3%B6nen</td>\n",
              "        </tr>\n",
              "        <tr>\n",
              "            <td>9</td>\n",
              "            <td>kubica</td>\n",
              "            <td></td>\n",
              "            <td>KUB</td>\n",
              "            <td>Robert</td>\n",
              "            <td>Kubica</td>\n",
              "            <td>07/12/1984</td>\n",
              "            <td>Polish</td>\n",
              "            <td>http://en.wikipedia.org/wiki/Robert_Kubica</td>\n",
              "        </tr>\n",
              "        <tr>\n",
              "            <td>10</td>\n",
              "            <td>glock</td>\n",
              "            <td></td>\n",
              "            <td>GLO</td>\n",
              "            <td>Timo</td>\n",
              "            <td>Glock</td>\n",
              "            <td>18/03/1982</td>\n",
              "            <td>German</td>\n",
              "            <td>http://en.wikipedia.org/wiki/Timo_Glock</td>\n",
              "        </tr>\n",
              "    </tbody>\n",
              "</table>"
            ]
          },
          "metadata": {},
          "execution_count": 3
        }
      ]
    },
    {
      "cell_type": "code",
      "source": [
        "%%sql\n",
        "SELECT *\n",
        "FROM laptimes \n",
        "LIMIT 10;"
      ],
      "metadata": {
        "colab": {
          "base_uri": "https://localhost:8080/",
          "height": 289
        },
        "id": "7_QHGC06u57x",
        "outputId": "c964eed3-5c31-4693-a63e-a9318c53f1e8"
      },
      "execution_count": null,
      "outputs": [
        {
          "output_type": "stream",
          "name": "stdout",
          "text": [
            " * sqlite:///Formula1.sqlite\n",
            "Done.\n"
          ]
        },
        {
          "output_type": "execute_result",
          "data": {
            "text/plain": [
              "[(841, 20, 1, 1, '1:38.109', 98109),\n",
              " (841, 20, 2, 1, '1:33.006', 93006),\n",
              " (841, 20, 3, 1, '1:32.713', 92713),\n",
              " (841, 20, 4, 1, '1:32.803', 92803),\n",
              " (841, 20, 5, 1, '1:32.342', 92342),\n",
              " (841, 20, 6, 1, '1:32.605', 92605),\n",
              " (841, 20, 7, 1, '1:32.502', 92502),\n",
              " (841, 20, 8, 1, '1:32.537', 92537),\n",
              " (841, 20, 9, 1, '1:33.240', 93240),\n",
              " (841, 20, 10, 1, '1:32.572', 92572)]"
            ],
            "text/html": [
              "<table>\n",
              "    <thead>\n",
              "        <tr>\n",
              "            <th>raceId</th>\n",
              "            <th>driverId</th>\n",
              "            <th>lap</th>\n",
              "            <th>position</th>\n",
              "            <th>time</th>\n",
              "            <th>milliseconds</th>\n",
              "        </tr>\n",
              "    </thead>\n",
              "    <tbody>\n",
              "        <tr>\n",
              "            <td>841</td>\n",
              "            <td>20</td>\n",
              "            <td>1</td>\n",
              "            <td>1</td>\n",
              "            <td>1:38.109</td>\n",
              "            <td>98109</td>\n",
              "        </tr>\n",
              "        <tr>\n",
              "            <td>841</td>\n",
              "            <td>20</td>\n",
              "            <td>2</td>\n",
              "            <td>1</td>\n",
              "            <td>1:33.006</td>\n",
              "            <td>93006</td>\n",
              "        </tr>\n",
              "        <tr>\n",
              "            <td>841</td>\n",
              "            <td>20</td>\n",
              "            <td>3</td>\n",
              "            <td>1</td>\n",
              "            <td>1:32.713</td>\n",
              "            <td>92713</td>\n",
              "        </tr>\n",
              "        <tr>\n",
              "            <td>841</td>\n",
              "            <td>20</td>\n",
              "            <td>4</td>\n",
              "            <td>1</td>\n",
              "            <td>1:32.803</td>\n",
              "            <td>92803</td>\n",
              "        </tr>\n",
              "        <tr>\n",
              "            <td>841</td>\n",
              "            <td>20</td>\n",
              "            <td>5</td>\n",
              "            <td>1</td>\n",
              "            <td>1:32.342</td>\n",
              "            <td>92342</td>\n",
              "        </tr>\n",
              "        <tr>\n",
              "            <td>841</td>\n",
              "            <td>20</td>\n",
              "            <td>6</td>\n",
              "            <td>1</td>\n",
              "            <td>1:32.605</td>\n",
              "            <td>92605</td>\n",
              "        </tr>\n",
              "        <tr>\n",
              "            <td>841</td>\n",
              "            <td>20</td>\n",
              "            <td>7</td>\n",
              "            <td>1</td>\n",
              "            <td>1:32.502</td>\n",
              "            <td>92502</td>\n",
              "        </tr>\n",
              "        <tr>\n",
              "            <td>841</td>\n",
              "            <td>20</td>\n",
              "            <td>8</td>\n",
              "            <td>1</td>\n",
              "            <td>1:32.537</td>\n",
              "            <td>92537</td>\n",
              "        </tr>\n",
              "        <tr>\n",
              "            <td>841</td>\n",
              "            <td>20</td>\n",
              "            <td>9</td>\n",
              "            <td>1</td>\n",
              "            <td>1:33.240</td>\n",
              "            <td>93240</td>\n",
              "        </tr>\n",
              "        <tr>\n",
              "            <td>841</td>\n",
              "            <td>20</td>\n",
              "            <td>10</td>\n",
              "            <td>1</td>\n",
              "            <td>1:32.572</td>\n",
              "            <td>92572</td>\n",
              "        </tr>\n",
              "    </tbody>\n",
              "</table>"
            ]
          },
          "metadata": {},
          "execution_count": 9
        }
      ]
    },
    {
      "cell_type": "code",
      "source": [
        "%%sql\n",
        "SELECT *\n",
        "FROM results \n",
        "LIMIT 10;"
      ],
      "metadata": {
        "colab": {
          "base_uri": "https://localhost:8080/",
          "height": 309
        },
        "id": "-MuEBSN9vutR",
        "outputId": "d2ead0ef-e992-4018-f621-227714c685da"
      },
      "execution_count": null,
      "outputs": [
        {
          "output_type": "stream",
          "name": "stdout",
          "text": [
            " * sqlite:///Formula1.sqlite\n",
            "Done.\n"
          ]
        },
        {
          "output_type": "execute_result",
          "data": {
            "text/plain": [
              "[('1', 18, 1, 1, 22, 1, 1, '1', 1, 10, 58, '34:50.6', 5690616, '39', 2, '01:27.5', 218.3, 1),\n",
              " ('2', 18, 2, 2, 3, 5, 2, '2', 2, 8, 58, '5.478', 5696094, '41', 3, '01:27.7', 217.586, 1),\n",
              " ('3', 18, 3, 3, 7, 7, 3, '3', 3, 6, 58, '8.163', 5698779, '41', 5, '01:28.1', 216.719, 1),\n",
              " ('4', 18, 4, 4, 5, 11, 4, '4', 4, 5, 58, '17.181', 5707797, '58', 7, '01:28.6', 215.464, 1),\n",
              " ('5', 18, 5, 1, 23, 3, 5, '5', 5, 4, 58, '18.014', 5708630, '43', 1, '01:27.4', 218.385, 1),\n",
              " ('6', 18, 6, 3, 8, 13, 6, '6', 6, 3, 57, '', '', '50', 14, '01:29.6', 212.974, 11),\n",
              " ('7', 18, 7, 5, 14, 17, 7, '7', 7, 2, 55, '', '', '22', 12, '01:29.5', 213.224, 5),\n",
              " ('8', 18, 8, 6, 1, 15, 8, '8', 8, 1, 53, '', '', '20', 4, '01:27.9', 217.18, 5),\n",
              " ('9', 18, 9, 2, 4, 2, '', 'R', 9, 0, 47, '', '', '15', 9, '01:28.8', 215.1, 4),\n",
              " ('10', 18, 10, 7, 12, 18, '', 'R', 10, 0, 43, '', '', '23', 13, '01:29.6', 213.166, 3)]"
            ],
            "text/html": [
              "<table>\n",
              "    <thead>\n",
              "        <tr>\n",
              "            <th>resultId</th>\n",
              "            <th>raceId</th>\n",
              "            <th>driverId</th>\n",
              "            <th>constructorId</th>\n",
              "            <th>number</th>\n",
              "            <th>grid</th>\n",
              "            <th>position</th>\n",
              "            <th>positionText</th>\n",
              "            <th>positionOrder</th>\n",
              "            <th>points</th>\n",
              "            <th>laps</th>\n",
              "            <th>time</th>\n",
              "            <th>milliseconds</th>\n",
              "            <th>fastestLap</th>\n",
              "            <th>rank</th>\n",
              "            <th>fastestLapTime</th>\n",
              "            <th>fastestLapSpeed</th>\n",
              "            <th>statusId</th>\n",
              "        </tr>\n",
              "    </thead>\n",
              "    <tbody>\n",
              "        <tr>\n",
              "            <td>1</td>\n",
              "            <td>18</td>\n",
              "            <td>1</td>\n",
              "            <td>1</td>\n",
              "            <td>22</td>\n",
              "            <td>1</td>\n",
              "            <td>1</td>\n",
              "            <td>1</td>\n",
              "            <td>1</td>\n",
              "            <td>10</td>\n",
              "            <td>58</td>\n",
              "            <td>34:50.6</td>\n",
              "            <td>5690616</td>\n",
              "            <td>39</td>\n",
              "            <td>2</td>\n",
              "            <td>01:27.5</td>\n",
              "            <td>218.3</td>\n",
              "            <td>1</td>\n",
              "        </tr>\n",
              "        <tr>\n",
              "            <td>2</td>\n",
              "            <td>18</td>\n",
              "            <td>2</td>\n",
              "            <td>2</td>\n",
              "            <td>3</td>\n",
              "            <td>5</td>\n",
              "            <td>2</td>\n",
              "            <td>2</td>\n",
              "            <td>2</td>\n",
              "            <td>8</td>\n",
              "            <td>58</td>\n",
              "            <td>5.478</td>\n",
              "            <td>5696094</td>\n",
              "            <td>41</td>\n",
              "            <td>3</td>\n",
              "            <td>01:27.7</td>\n",
              "            <td>217.586</td>\n",
              "            <td>1</td>\n",
              "        </tr>\n",
              "        <tr>\n",
              "            <td>3</td>\n",
              "            <td>18</td>\n",
              "            <td>3</td>\n",
              "            <td>3</td>\n",
              "            <td>7</td>\n",
              "            <td>7</td>\n",
              "            <td>3</td>\n",
              "            <td>3</td>\n",
              "            <td>3</td>\n",
              "            <td>6</td>\n",
              "            <td>58</td>\n",
              "            <td>8.163</td>\n",
              "            <td>5698779</td>\n",
              "            <td>41</td>\n",
              "            <td>5</td>\n",
              "            <td>01:28.1</td>\n",
              "            <td>216.719</td>\n",
              "            <td>1</td>\n",
              "        </tr>\n",
              "        <tr>\n",
              "            <td>4</td>\n",
              "            <td>18</td>\n",
              "            <td>4</td>\n",
              "            <td>4</td>\n",
              "            <td>5</td>\n",
              "            <td>11</td>\n",
              "            <td>4</td>\n",
              "            <td>4</td>\n",
              "            <td>4</td>\n",
              "            <td>5</td>\n",
              "            <td>58</td>\n",
              "            <td>17.181</td>\n",
              "            <td>5707797</td>\n",
              "            <td>58</td>\n",
              "            <td>7</td>\n",
              "            <td>01:28.6</td>\n",
              "            <td>215.464</td>\n",
              "            <td>1</td>\n",
              "        </tr>\n",
              "        <tr>\n",
              "            <td>5</td>\n",
              "            <td>18</td>\n",
              "            <td>5</td>\n",
              "            <td>1</td>\n",
              "            <td>23</td>\n",
              "            <td>3</td>\n",
              "            <td>5</td>\n",
              "            <td>5</td>\n",
              "            <td>5</td>\n",
              "            <td>4</td>\n",
              "            <td>58</td>\n",
              "            <td>18.014</td>\n",
              "            <td>5708630</td>\n",
              "            <td>43</td>\n",
              "            <td>1</td>\n",
              "            <td>01:27.4</td>\n",
              "            <td>218.385</td>\n",
              "            <td>1</td>\n",
              "        </tr>\n",
              "        <tr>\n",
              "            <td>6</td>\n",
              "            <td>18</td>\n",
              "            <td>6</td>\n",
              "            <td>3</td>\n",
              "            <td>8</td>\n",
              "            <td>13</td>\n",
              "            <td>6</td>\n",
              "            <td>6</td>\n",
              "            <td>6</td>\n",
              "            <td>3</td>\n",
              "            <td>57</td>\n",
              "            <td></td>\n",
              "            <td></td>\n",
              "            <td>50</td>\n",
              "            <td>14</td>\n",
              "            <td>01:29.6</td>\n",
              "            <td>212.974</td>\n",
              "            <td>11</td>\n",
              "        </tr>\n",
              "        <tr>\n",
              "            <td>7</td>\n",
              "            <td>18</td>\n",
              "            <td>7</td>\n",
              "            <td>5</td>\n",
              "            <td>14</td>\n",
              "            <td>17</td>\n",
              "            <td>7</td>\n",
              "            <td>7</td>\n",
              "            <td>7</td>\n",
              "            <td>2</td>\n",
              "            <td>55</td>\n",
              "            <td></td>\n",
              "            <td></td>\n",
              "            <td>22</td>\n",
              "            <td>12</td>\n",
              "            <td>01:29.5</td>\n",
              "            <td>213.224</td>\n",
              "            <td>5</td>\n",
              "        </tr>\n",
              "        <tr>\n",
              "            <td>8</td>\n",
              "            <td>18</td>\n",
              "            <td>8</td>\n",
              "            <td>6</td>\n",
              "            <td>1</td>\n",
              "            <td>15</td>\n",
              "            <td>8</td>\n",
              "            <td>8</td>\n",
              "            <td>8</td>\n",
              "            <td>1</td>\n",
              "            <td>53</td>\n",
              "            <td></td>\n",
              "            <td></td>\n",
              "            <td>20</td>\n",
              "            <td>4</td>\n",
              "            <td>01:27.9</td>\n",
              "            <td>217.18</td>\n",
              "            <td>5</td>\n",
              "        </tr>\n",
              "        <tr>\n",
              "            <td>9</td>\n",
              "            <td>18</td>\n",
              "            <td>9</td>\n",
              "            <td>2</td>\n",
              "            <td>4</td>\n",
              "            <td>2</td>\n",
              "            <td></td>\n",
              "            <td>R</td>\n",
              "            <td>9</td>\n",
              "            <td>0</td>\n",
              "            <td>47</td>\n",
              "            <td></td>\n",
              "            <td></td>\n",
              "            <td>15</td>\n",
              "            <td>9</td>\n",
              "            <td>01:28.8</td>\n",
              "            <td>215.1</td>\n",
              "            <td>4</td>\n",
              "        </tr>\n",
              "        <tr>\n",
              "            <td>10</td>\n",
              "            <td>18</td>\n",
              "            <td>10</td>\n",
              "            <td>7</td>\n",
              "            <td>12</td>\n",
              "            <td>18</td>\n",
              "            <td></td>\n",
              "            <td>R</td>\n",
              "            <td>10</td>\n",
              "            <td>0</td>\n",
              "            <td>43</td>\n",
              "            <td></td>\n",
              "            <td></td>\n",
              "            <td>23</td>\n",
              "            <td>13</td>\n",
              "            <td>01:29.6</td>\n",
              "            <td>213.166</td>\n",
              "            <td>3</td>\n",
              "        </tr>\n",
              "    </tbody>\n",
              "</table>"
            ]
          },
          "metadata": {},
          "execution_count": 11
        }
      ]
    },
    {
      "cell_type": "code",
      "source": [
        "%%sql\n",
        "SELECT *\n",
        "FROM status \n",
        "LIMIT 10;"
      ],
      "metadata": {
        "colab": {
          "base_uri": "https://localhost:8080/",
          "height": 289
        },
        "id": "LXJJ2Ul6wLmk",
        "outputId": "71fbcd34-a354-496b-8fcb-d266090e3ac4"
      },
      "execution_count": null,
      "outputs": [
        {
          "output_type": "stream",
          "name": "stdout",
          "text": [
            " * sqlite:///Formula1.sqlite\n",
            "Done.\n"
          ]
        },
        {
          "output_type": "execute_result",
          "data": {
            "text/plain": [
              "[(1, 'Finished'),\n",
              " (2, 'Disqualified'),\n",
              " (3, 'Accident'),\n",
              " (4, 'Collision'),\n",
              " (5, 'Engine'),\n",
              " (6, 'Gearbox'),\n",
              " (7, 'Transmission'),\n",
              " (8, 'Clutch'),\n",
              " (9, 'Hydraulics'),\n",
              " (10, 'Electrical')]"
            ],
            "text/html": [
              "<table>\n",
              "    <thead>\n",
              "        <tr>\n",
              "            <th>statusId</th>\n",
              "            <th>status</th>\n",
              "        </tr>\n",
              "    </thead>\n",
              "    <tbody>\n",
              "        <tr>\n",
              "            <td>1</td>\n",
              "            <td>Finished</td>\n",
              "        </tr>\n",
              "        <tr>\n",
              "            <td>2</td>\n",
              "            <td>Disqualified</td>\n",
              "        </tr>\n",
              "        <tr>\n",
              "            <td>3</td>\n",
              "            <td>Accident</td>\n",
              "        </tr>\n",
              "        <tr>\n",
              "            <td>4</td>\n",
              "            <td>Collision</td>\n",
              "        </tr>\n",
              "        <tr>\n",
              "            <td>5</td>\n",
              "            <td>Engine</td>\n",
              "        </tr>\n",
              "        <tr>\n",
              "            <td>6</td>\n",
              "            <td>Gearbox</td>\n",
              "        </tr>\n",
              "        <tr>\n",
              "            <td>7</td>\n",
              "            <td>Transmission</td>\n",
              "        </tr>\n",
              "        <tr>\n",
              "            <td>8</td>\n",
              "            <td>Clutch</td>\n",
              "        </tr>\n",
              "        <tr>\n",
              "            <td>9</td>\n",
              "            <td>Hydraulics</td>\n",
              "        </tr>\n",
              "        <tr>\n",
              "            <td>10</td>\n",
              "            <td>Electrical</td>\n",
              "        </tr>\n",
              "    </tbody>\n",
              "</table>"
            ]
          },
          "metadata": {},
          "execution_count": 13
        }
      ]
    },
    {
      "cell_type": "code",
      "source": [
        "%%sql\n",
        "SELECT *\n",
        "FROM qualifying\n",
        "LIMIT 10;"
      ],
      "metadata": {
        "colab": {
          "base_uri": "https://localhost:8080/",
          "height": 289
        },
        "id": "SPpQd3WBwdvE",
        "outputId": "354994e3-b16b-4852-88f2-5968008745b2"
      },
      "execution_count": null,
      "outputs": [
        {
          "output_type": "stream",
          "name": "stdout",
          "text": [
            " * sqlite:///Formula1.sqlite\n",
            "Done.\n"
          ]
        },
        {
          "output_type": "execute_result",
          "data": {
            "text/plain": [
              "[(1, 18, 1, 1, 22, 1, '1:26.572', '1:25.187', '1:26.714'),\n",
              " (2, 18, 9, 2, 4, 2, '1:26.103', '1:25.315', '1:26.869'),\n",
              " (3, 18, 5, 1, 23, 3, '1:25.664', '1:25.452', '1:27.079'),\n",
              " (4, 18, 13, 6, 2, 4, '1:25.994', '1:25.691', '1:27.178'),\n",
              " (5, 18, 2, 2, 3, 5, '1:25.960', '1:25.518', '1:27.236'),\n",
              " (6, 18, 15, 7, 11, 6, '1:26.427', '1:26.101', '1:28.527'),\n",
              " (7, 18, 3, 3, 7, 7, '1:26.295', '1:26.059', '1:28.687'),\n",
              " (8, 18, 14, 9, 9, 8, '1:26.381', '1:26.063', '1:29.041'),\n",
              " (9, 18, 10, 7, 12, 9, '1:26.919', '1:26.164', '1:29.593'),\n",
              " (10, 18, 20, 5, 15, 10, '1:26.702', '1:25.842', 'NULL')]"
            ],
            "text/html": [
              "<table>\n",
              "    <thead>\n",
              "        <tr>\n",
              "            <th>qualifyId</th>\n",
              "            <th>raceId</th>\n",
              "            <th>driverId</th>\n",
              "            <th>constructorId</th>\n",
              "            <th>number</th>\n",
              "            <th>position</th>\n",
              "            <th>q1</th>\n",
              "            <th>q2</th>\n",
              "            <th>q3</th>\n",
              "        </tr>\n",
              "    </thead>\n",
              "    <tbody>\n",
              "        <tr>\n",
              "            <td>1</td>\n",
              "            <td>18</td>\n",
              "            <td>1</td>\n",
              "            <td>1</td>\n",
              "            <td>22</td>\n",
              "            <td>1</td>\n",
              "            <td>1:26.572</td>\n",
              "            <td>1:25.187</td>\n",
              "            <td>1:26.714</td>\n",
              "        </tr>\n",
              "        <tr>\n",
              "            <td>2</td>\n",
              "            <td>18</td>\n",
              "            <td>9</td>\n",
              "            <td>2</td>\n",
              "            <td>4</td>\n",
              "            <td>2</td>\n",
              "            <td>1:26.103</td>\n",
              "            <td>1:25.315</td>\n",
              "            <td>1:26.869</td>\n",
              "        </tr>\n",
              "        <tr>\n",
              "            <td>3</td>\n",
              "            <td>18</td>\n",
              "            <td>5</td>\n",
              "            <td>1</td>\n",
              "            <td>23</td>\n",
              "            <td>3</td>\n",
              "            <td>1:25.664</td>\n",
              "            <td>1:25.452</td>\n",
              "            <td>1:27.079</td>\n",
              "        </tr>\n",
              "        <tr>\n",
              "            <td>4</td>\n",
              "            <td>18</td>\n",
              "            <td>13</td>\n",
              "            <td>6</td>\n",
              "            <td>2</td>\n",
              "            <td>4</td>\n",
              "            <td>1:25.994</td>\n",
              "            <td>1:25.691</td>\n",
              "            <td>1:27.178</td>\n",
              "        </tr>\n",
              "        <tr>\n",
              "            <td>5</td>\n",
              "            <td>18</td>\n",
              "            <td>2</td>\n",
              "            <td>2</td>\n",
              "            <td>3</td>\n",
              "            <td>5</td>\n",
              "            <td>1:25.960</td>\n",
              "            <td>1:25.518</td>\n",
              "            <td>1:27.236</td>\n",
              "        </tr>\n",
              "        <tr>\n",
              "            <td>6</td>\n",
              "            <td>18</td>\n",
              "            <td>15</td>\n",
              "            <td>7</td>\n",
              "            <td>11</td>\n",
              "            <td>6</td>\n",
              "            <td>1:26.427</td>\n",
              "            <td>1:26.101</td>\n",
              "            <td>1:28.527</td>\n",
              "        </tr>\n",
              "        <tr>\n",
              "            <td>7</td>\n",
              "            <td>18</td>\n",
              "            <td>3</td>\n",
              "            <td>3</td>\n",
              "            <td>7</td>\n",
              "            <td>7</td>\n",
              "            <td>1:26.295</td>\n",
              "            <td>1:26.059</td>\n",
              "            <td>1:28.687</td>\n",
              "        </tr>\n",
              "        <tr>\n",
              "            <td>8</td>\n",
              "            <td>18</td>\n",
              "            <td>14</td>\n",
              "            <td>9</td>\n",
              "            <td>9</td>\n",
              "            <td>8</td>\n",
              "            <td>1:26.381</td>\n",
              "            <td>1:26.063</td>\n",
              "            <td>1:29.041</td>\n",
              "        </tr>\n",
              "        <tr>\n",
              "            <td>9</td>\n",
              "            <td>18</td>\n",
              "            <td>10</td>\n",
              "            <td>7</td>\n",
              "            <td>12</td>\n",
              "            <td>9</td>\n",
              "            <td>1:26.919</td>\n",
              "            <td>1:26.164</td>\n",
              "            <td>1:29.593</td>\n",
              "        </tr>\n",
              "        <tr>\n",
              "            <td>10</td>\n",
              "            <td>18</td>\n",
              "            <td>20</td>\n",
              "            <td>5</td>\n",
              "            <td>15</td>\n",
              "            <td>10</td>\n",
              "            <td>1:26.702</td>\n",
              "            <td>1:25.842</td>\n",
              "            <td>NULL</td>\n",
              "        </tr>\n",
              "    </tbody>\n",
              "</table>"
            ]
          },
          "metadata": {},
          "execution_count": 15
        }
      ]
    },
    {
      "cell_type": "code",
      "source": [
        ""
      ],
      "metadata": {
        "id": "nUR46XgXmFGt"
      },
      "execution_count": null,
      "outputs": []
    }
  ]
}